{
 "cells": [
  {
   "cell_type": "code",
   "execution_count": 913,
   "metadata": {},
   "outputs": [],
   "source": [
    "## importing required libraries\n",
    "import pandas as pd\n",
    "import numpy as np\n",
    "import matplotlib.pyplot as plt\n",
    "import seaborn as sns\n",
    "import math\n",
    "import statistics as sp"
   ]
  },
  {
   "cell_type": "markdown",
   "metadata": {},
   "source": [
    "### Loading the dataset"
   ]
  },
  {
   "cell_type": "code",
   "execution_count": 1108,
   "metadata": {},
   "outputs": [],
   "source": [
    "loan = pd.read_csv(\"loan.csv\", index_col = False)"
   ]
  },
  {
   "cell_type": "markdown",
   "metadata": {},
   "source": [
    "### Exploring the Dataset\n",
    "###### Checking the top 5 rows\n",
    "###### Percentage of Null values in each column\n",
    "###### Cheking the shape of dataset"
   ]
  },
  {
   "cell_type": "code",
   "execution_count": 1109,
   "metadata": {},
   "outputs": [
    {
     "name": "stdout",
     "output_type": "stream",
     "text": [
      "(39717, 111)\n"
     ]
    }
   ],
   "source": [
    "## printing the shape of dataset\n",
    "print(loan.shape)"
   ]
  },
  {
   "cell_type": "code",
   "execution_count": 1110,
   "metadata": {},
   "outputs": [
    {
     "data": {
      "text/plain": [
       "id                                  int64\n",
       "member_id                           int64\n",
       "loan_amnt                           int64\n",
       "funded_amnt                         int64\n",
       "funded_amnt_inv                   float64\n",
       "term                               object\n",
       "int_rate                           object\n",
       "installment                       float64\n",
       "grade                              object\n",
       "sub_grade                          object\n",
       "emp_title                          object\n",
       "emp_length                         object\n",
       "home_ownership                     object\n",
       "annual_inc                        float64\n",
       "verification_status                object\n",
       "issue_d                            object\n",
       "loan_status                        object\n",
       "pymnt_plan                         object\n",
       "url                                object\n",
       "desc                               object\n",
       "purpose                            object\n",
       "title                              object\n",
       "zip_code                           object\n",
       "addr_state                         object\n",
       "dti                               float64\n",
       "delinq_2yrs                         int64\n",
       "earliest_cr_line                   object\n",
       "inq_last_6mths                      int64\n",
       "mths_since_last_delinq            float64\n",
       "mths_since_last_record            float64\n",
       "                                   ...   \n",
       "mo_sin_old_rev_tl_op              float64\n",
       "mo_sin_rcnt_rev_tl_op             float64\n",
       "mo_sin_rcnt_tl                    float64\n",
       "mort_acc                          float64\n",
       "mths_since_recent_bc              float64\n",
       "mths_since_recent_bc_dlq          float64\n",
       "mths_since_recent_inq             float64\n",
       "mths_since_recent_revol_delinq    float64\n",
       "num_accts_ever_120_pd             float64\n",
       "num_actv_bc_tl                    float64\n",
       "num_actv_rev_tl                   float64\n",
       "num_bc_sats                       float64\n",
       "num_bc_tl                         float64\n",
       "num_il_tl                         float64\n",
       "num_op_rev_tl                     float64\n",
       "num_rev_accts                     float64\n",
       "num_rev_tl_bal_gt_0               float64\n",
       "num_sats                          float64\n",
       "num_tl_120dpd_2m                  float64\n",
       "num_tl_30dpd                      float64\n",
       "num_tl_90g_dpd_24m                float64\n",
       "num_tl_op_past_12m                float64\n",
       "pct_tl_nvr_dlq                    float64\n",
       "percent_bc_gt_75                  float64\n",
       "pub_rec_bankruptcies              float64\n",
       "tax_liens                         float64\n",
       "tot_hi_cred_lim                   float64\n",
       "total_bal_ex_mort                 float64\n",
       "total_bc_limit                    float64\n",
       "total_il_high_credit_limit        float64\n",
       "Length: 111, dtype: object"
      ]
     },
     "execution_count": 1110,
     "metadata": {},
     "output_type": "execute_result"
    }
   ],
   "source": [
    "## Checking the type of each column\n",
    "loan.dtypes"
   ]
  },
  {
   "cell_type": "code",
   "execution_count": 1111,
   "metadata": {},
   "outputs": [
    {
     "data": {
      "text/html": [
       "<div>\n",
       "<style scoped>\n",
       "    .dataframe tbody tr th:only-of-type {\n",
       "        vertical-align: middle;\n",
       "    }\n",
       "\n",
       "    .dataframe tbody tr th {\n",
       "        vertical-align: top;\n",
       "    }\n",
       "\n",
       "    .dataframe thead th {\n",
       "        text-align: right;\n",
       "    }\n",
       "</style>\n",
       "<table border=\"1\" class=\"dataframe\">\n",
       "  <thead>\n",
       "    <tr style=\"text-align: right;\">\n",
       "      <th></th>\n",
       "      <th>id</th>\n",
       "      <th>member_id</th>\n",
       "      <th>loan_amnt</th>\n",
       "      <th>funded_amnt</th>\n",
       "      <th>funded_amnt_inv</th>\n",
       "      <th>term</th>\n",
       "      <th>int_rate</th>\n",
       "      <th>installment</th>\n",
       "      <th>grade</th>\n",
       "      <th>sub_grade</th>\n",
       "      <th>...</th>\n",
       "      <th>num_tl_90g_dpd_24m</th>\n",
       "      <th>num_tl_op_past_12m</th>\n",
       "      <th>pct_tl_nvr_dlq</th>\n",
       "      <th>percent_bc_gt_75</th>\n",
       "      <th>pub_rec_bankruptcies</th>\n",
       "      <th>tax_liens</th>\n",
       "      <th>tot_hi_cred_lim</th>\n",
       "      <th>total_bal_ex_mort</th>\n",
       "      <th>total_bc_limit</th>\n",
       "      <th>total_il_high_credit_limit</th>\n",
       "    </tr>\n",
       "  </thead>\n",
       "  <tbody>\n",
       "    <tr>\n",
       "      <th>0</th>\n",
       "      <td>1077501</td>\n",
       "      <td>1296599</td>\n",
       "      <td>5000</td>\n",
       "      <td>5000</td>\n",
       "      <td>4975.0</td>\n",
       "      <td>36 months</td>\n",
       "      <td>10.65%</td>\n",
       "      <td>162.87</td>\n",
       "      <td>B</td>\n",
       "      <td>B2</td>\n",
       "      <td>...</td>\n",
       "      <td>NaN</td>\n",
       "      <td>NaN</td>\n",
       "      <td>NaN</td>\n",
       "      <td>NaN</td>\n",
       "      <td>0.0</td>\n",
       "      <td>0.0</td>\n",
       "      <td>NaN</td>\n",
       "      <td>NaN</td>\n",
       "      <td>NaN</td>\n",
       "      <td>NaN</td>\n",
       "    </tr>\n",
       "    <tr>\n",
       "      <th>1</th>\n",
       "      <td>1077430</td>\n",
       "      <td>1314167</td>\n",
       "      <td>2500</td>\n",
       "      <td>2500</td>\n",
       "      <td>2500.0</td>\n",
       "      <td>60 months</td>\n",
       "      <td>15.27%</td>\n",
       "      <td>59.83</td>\n",
       "      <td>C</td>\n",
       "      <td>C4</td>\n",
       "      <td>...</td>\n",
       "      <td>NaN</td>\n",
       "      <td>NaN</td>\n",
       "      <td>NaN</td>\n",
       "      <td>NaN</td>\n",
       "      <td>0.0</td>\n",
       "      <td>0.0</td>\n",
       "      <td>NaN</td>\n",
       "      <td>NaN</td>\n",
       "      <td>NaN</td>\n",
       "      <td>NaN</td>\n",
       "    </tr>\n",
       "    <tr>\n",
       "      <th>2</th>\n",
       "      <td>1077175</td>\n",
       "      <td>1313524</td>\n",
       "      <td>2400</td>\n",
       "      <td>2400</td>\n",
       "      <td>2400.0</td>\n",
       "      <td>36 months</td>\n",
       "      <td>15.96%</td>\n",
       "      <td>84.33</td>\n",
       "      <td>C</td>\n",
       "      <td>C5</td>\n",
       "      <td>...</td>\n",
       "      <td>NaN</td>\n",
       "      <td>NaN</td>\n",
       "      <td>NaN</td>\n",
       "      <td>NaN</td>\n",
       "      <td>0.0</td>\n",
       "      <td>0.0</td>\n",
       "      <td>NaN</td>\n",
       "      <td>NaN</td>\n",
       "      <td>NaN</td>\n",
       "      <td>NaN</td>\n",
       "    </tr>\n",
       "    <tr>\n",
       "      <th>3</th>\n",
       "      <td>1076863</td>\n",
       "      <td>1277178</td>\n",
       "      <td>10000</td>\n",
       "      <td>10000</td>\n",
       "      <td>10000.0</td>\n",
       "      <td>36 months</td>\n",
       "      <td>13.49%</td>\n",
       "      <td>339.31</td>\n",
       "      <td>C</td>\n",
       "      <td>C1</td>\n",
       "      <td>...</td>\n",
       "      <td>NaN</td>\n",
       "      <td>NaN</td>\n",
       "      <td>NaN</td>\n",
       "      <td>NaN</td>\n",
       "      <td>0.0</td>\n",
       "      <td>0.0</td>\n",
       "      <td>NaN</td>\n",
       "      <td>NaN</td>\n",
       "      <td>NaN</td>\n",
       "      <td>NaN</td>\n",
       "    </tr>\n",
       "    <tr>\n",
       "      <th>4</th>\n",
       "      <td>1075358</td>\n",
       "      <td>1311748</td>\n",
       "      <td>3000</td>\n",
       "      <td>3000</td>\n",
       "      <td>3000.0</td>\n",
       "      <td>60 months</td>\n",
       "      <td>12.69%</td>\n",
       "      <td>67.79</td>\n",
       "      <td>B</td>\n",
       "      <td>B5</td>\n",
       "      <td>...</td>\n",
       "      <td>NaN</td>\n",
       "      <td>NaN</td>\n",
       "      <td>NaN</td>\n",
       "      <td>NaN</td>\n",
       "      <td>0.0</td>\n",
       "      <td>0.0</td>\n",
       "      <td>NaN</td>\n",
       "      <td>NaN</td>\n",
       "      <td>NaN</td>\n",
       "      <td>NaN</td>\n",
       "    </tr>\n",
       "  </tbody>\n",
       "</table>\n",
       "<p>5 rows × 111 columns</p>\n",
       "</div>"
      ],
      "text/plain": [
       "        id  member_id  loan_amnt  funded_amnt  funded_amnt_inv        term  \\\n",
       "0  1077501    1296599       5000         5000           4975.0   36 months   \n",
       "1  1077430    1314167       2500         2500           2500.0   60 months   \n",
       "2  1077175    1313524       2400         2400           2400.0   36 months   \n",
       "3  1076863    1277178      10000        10000          10000.0   36 months   \n",
       "4  1075358    1311748       3000         3000           3000.0   60 months   \n",
       "\n",
       "  int_rate  installment grade sub_grade            ...              \\\n",
       "0   10.65%       162.87     B        B2            ...               \n",
       "1   15.27%        59.83     C        C4            ...               \n",
       "2   15.96%        84.33     C        C5            ...               \n",
       "3   13.49%       339.31     C        C1            ...               \n",
       "4   12.69%        67.79     B        B5            ...               \n",
       "\n",
       "  num_tl_90g_dpd_24m num_tl_op_past_12m pct_tl_nvr_dlq  percent_bc_gt_75  \\\n",
       "0                NaN                NaN            NaN               NaN   \n",
       "1                NaN                NaN            NaN               NaN   \n",
       "2                NaN                NaN            NaN               NaN   \n",
       "3                NaN                NaN            NaN               NaN   \n",
       "4                NaN                NaN            NaN               NaN   \n",
       "\n",
       "  pub_rec_bankruptcies tax_liens tot_hi_cred_lim total_bal_ex_mort  \\\n",
       "0                  0.0       0.0             NaN               NaN   \n",
       "1                  0.0       0.0             NaN               NaN   \n",
       "2                  0.0       0.0             NaN               NaN   \n",
       "3                  0.0       0.0             NaN               NaN   \n",
       "4                  0.0       0.0             NaN               NaN   \n",
       "\n",
       "  total_bc_limit total_il_high_credit_limit  \n",
       "0            NaN                        NaN  \n",
       "1            NaN                        NaN  \n",
       "2            NaN                        NaN  \n",
       "3            NaN                        NaN  \n",
       "4            NaN                        NaN  \n",
       "\n",
       "[5 rows x 111 columns]"
      ]
     },
     "execution_count": 1111,
     "metadata": {},
     "output_type": "execute_result"
    }
   ],
   "source": [
    "## checking the top 5 rows\n",
    "loan.head()"
   ]
  },
  {
   "cell_type": "code",
   "execution_count": 1112,
   "metadata": {},
   "outputs": [
    {
     "name": "stdout",
     "output_type": "stream",
     "text": [
      "                        column_name   percent\n",
      "0                                id  0.000000\n",
      "1                         member_id  0.000000\n",
      "2                         loan_amnt  0.000000\n",
      "3                       funded_amnt  0.000000\n",
      "4                   funded_amnt_inv  0.000000\n",
      "5                              term  0.000000\n",
      "6                          int_rate  0.000000\n",
      "7                       installment  0.000000\n",
      "8                             grade  0.000000\n",
      "9                         sub_grade  0.000000\n",
      "10                        emp_title  0.061913\n",
      "11                       emp_length  0.027066\n",
      "12                   home_ownership  0.000000\n",
      "13                       annual_inc  0.000000\n",
      "14              verification_status  0.000000\n",
      "15                          issue_d  0.000000\n",
      "16                      loan_status  0.000000\n",
      "17                       pymnt_plan  0.000000\n",
      "18                              url  0.000000\n",
      "19                             desc  0.325805\n",
      "20                          purpose  0.000000\n",
      "21                            title  0.000277\n",
      "22                         zip_code  0.000000\n",
      "23                       addr_state  0.000000\n",
      "24                              dti  0.000000\n",
      "25                      delinq_2yrs  0.000000\n",
      "26                 earliest_cr_line  0.000000\n",
      "27                   inq_last_6mths  0.000000\n",
      "28           mths_since_last_delinq  0.646625\n",
      "29           mths_since_last_record  0.929854\n",
      "..                              ...       ...\n",
      "81             mo_sin_old_rev_tl_op  1.000000\n",
      "82            mo_sin_rcnt_rev_tl_op  1.000000\n",
      "83                   mo_sin_rcnt_tl  1.000000\n",
      "84                         mort_acc  1.000000\n",
      "85             mths_since_recent_bc  1.000000\n",
      "86         mths_since_recent_bc_dlq  1.000000\n",
      "87            mths_since_recent_inq  1.000000\n",
      "88   mths_since_recent_revol_delinq  1.000000\n",
      "89            num_accts_ever_120_pd  1.000000\n",
      "90                   num_actv_bc_tl  1.000000\n",
      "91                  num_actv_rev_tl  1.000000\n",
      "92                      num_bc_sats  1.000000\n",
      "93                        num_bc_tl  1.000000\n",
      "94                        num_il_tl  1.000000\n",
      "95                    num_op_rev_tl  1.000000\n",
      "96                    num_rev_accts  1.000000\n",
      "97              num_rev_tl_bal_gt_0  1.000000\n",
      "98                         num_sats  1.000000\n",
      "99                 num_tl_120dpd_2m  1.000000\n",
      "100                    num_tl_30dpd  1.000000\n",
      "101              num_tl_90g_dpd_24m  1.000000\n",
      "102              num_tl_op_past_12m  1.000000\n",
      "103                  pct_tl_nvr_dlq  1.000000\n",
      "104                percent_bc_gt_75  1.000000\n",
      "105            pub_rec_bankruptcies  0.017549\n",
      "106                       tax_liens  0.000982\n",
      "107                 tot_hi_cred_lim  1.000000\n",
      "108               total_bal_ex_mort  1.000000\n",
      "109                  total_bc_limit  1.000000\n",
      "110      total_il_high_credit_limit  1.000000\n",
      "\n",
      "[111 rows x 2 columns]\n"
     ]
    }
   ],
   "source": [
    "## checking the percentage of null values in each column\n",
    "percent_null = pd.DataFrame((loan.isnull().sum()/loan.shape[0])).reset_index().rename(columns = {\"index\":\"column_name\", 0:\"percent\"})\n",
    "print(percent_null)"
   ]
  },
  {
   "cell_type": "code",
   "execution_count": 1113,
   "metadata": {},
   "outputs": [
    {
     "name": "stdout",
     "output_type": "stream",
     "text": [
      "57  Columns with more than 60% NUll values\n",
      "56  Columns with more than 90% NUll values\n"
     ]
    }
   ],
   "source": [
    "## Getting Column Names who has more than 60% Null values\n",
    "cols_to_delete = list(percent_null.loc[percent_null[\"percent\"] > 0.6, \"column_name\"])\n",
    "print(len(cols_to_delete), \" Columns with more than 60% NUll values\")\n",
    "print(len(percent_null.loc[percent_null[\"percent\"]>0.9, \"column_name\"]), \" Columns with more than 90% NUll values\")"
   ]
  },
  {
   "cell_type": "code",
   "execution_count": 1114,
   "metadata": {},
   "outputs": [
    {
     "name": "stdout",
     "output_type": "stream",
     "text": [
      "2  Columns having all values 0\n"
     ]
    }
   ],
   "source": [
    "## Checking how many values are '0' in columns\n",
    "all_zero = list(loan.loc[:,(loan == 0).all(axis=0)].columns)\n",
    "print(len(all_zero), \" Columns having all values 0\")"
   ]
  },
  {
   "cell_type": "markdown",
   "metadata": {},
   "source": [
    "### Data Cleaning\n"
   ]
  },
  {
   "cell_type": "code",
   "execution_count": 1115,
   "metadata": {},
   "outputs": [
    {
     "name": "stdout",
     "output_type": "stream",
     "text": [
      "(39717, 54)\n"
     ]
    }
   ],
   "source": [
    "## Dropping all columns where Percentage of Null values are more than 60%\n",
    "loan = loan.drop(columns=cols_to_delete)\n",
    "print(loan.shape)"
   ]
  },
  {
   "cell_type": "code",
   "execution_count": 1116,
   "metadata": {},
   "outputs": [],
   "source": [
    "## Dropping all columns who has all values equal to '0'\n",
    "loan = loan.drop(columns=all_zero)"
   ]
  },
  {
   "cell_type": "code",
   "execution_count": 1117,
   "metadata": {},
   "outputs": [
    {
     "data": {
      "text/plain": [
       "(39717, 52)"
      ]
     },
     "execution_count": 1117,
     "metadata": {},
     "output_type": "execute_result"
    }
   ],
   "source": [
    "## Checking the Shape\n",
    "loan.shape\n",
    "## We are left with 52 columns now"
   ]
  },
  {
   "cell_type": "code",
   "execution_count": 1118,
   "metadata": {},
   "outputs": [
    {
     "data": {
      "text/html": [
       "<div>\n",
       "<style scoped>\n",
       "    .dataframe tbody tr th:only-of-type {\n",
       "        vertical-align: middle;\n",
       "    }\n",
       "\n",
       "    .dataframe tbody tr th {\n",
       "        vertical-align: top;\n",
       "    }\n",
       "\n",
       "    .dataframe thead th {\n",
       "        text-align: right;\n",
       "    }\n",
       "</style>\n",
       "<table border=\"1\" class=\"dataframe\">\n",
       "  <thead>\n",
       "    <tr style=\"text-align: right;\">\n",
       "      <th></th>\n",
       "      <th>id</th>\n",
       "      <th>member_id</th>\n",
       "      <th>loan_amnt</th>\n",
       "      <th>funded_amnt</th>\n",
       "      <th>funded_amnt_inv</th>\n",
       "      <th>term</th>\n",
       "      <th>int_rate</th>\n",
       "      <th>installment</th>\n",
       "      <th>grade</th>\n",
       "      <th>sub_grade</th>\n",
       "      <th>...</th>\n",
       "      <th>collection_recovery_fee</th>\n",
       "      <th>last_pymnt_d</th>\n",
       "      <th>last_pymnt_amnt</th>\n",
       "      <th>last_credit_pull_d</th>\n",
       "      <th>collections_12_mths_ex_med</th>\n",
       "      <th>policy_code</th>\n",
       "      <th>application_type</th>\n",
       "      <th>chargeoff_within_12_mths</th>\n",
       "      <th>pub_rec_bankruptcies</th>\n",
       "      <th>tax_liens</th>\n",
       "    </tr>\n",
       "  </thead>\n",
       "  <tbody>\n",
       "    <tr>\n",
       "      <th>0</th>\n",
       "      <td>1077501</td>\n",
       "      <td>1296599</td>\n",
       "      <td>5000</td>\n",
       "      <td>5000</td>\n",
       "      <td>4975.0</td>\n",
       "      <td>36 months</td>\n",
       "      <td>10.65%</td>\n",
       "      <td>162.87</td>\n",
       "      <td>B</td>\n",
       "      <td>B2</td>\n",
       "      <td>...</td>\n",
       "      <td>0.00</td>\n",
       "      <td>Jan-15</td>\n",
       "      <td>171.62</td>\n",
       "      <td>May-16</td>\n",
       "      <td>0.0</td>\n",
       "      <td>1</td>\n",
       "      <td>INDIVIDUAL</td>\n",
       "      <td>0.0</td>\n",
       "      <td>0.0</td>\n",
       "      <td>0.0</td>\n",
       "    </tr>\n",
       "    <tr>\n",
       "      <th>1</th>\n",
       "      <td>1077430</td>\n",
       "      <td>1314167</td>\n",
       "      <td>2500</td>\n",
       "      <td>2500</td>\n",
       "      <td>2500.0</td>\n",
       "      <td>60 months</td>\n",
       "      <td>15.27%</td>\n",
       "      <td>59.83</td>\n",
       "      <td>C</td>\n",
       "      <td>C4</td>\n",
       "      <td>...</td>\n",
       "      <td>1.11</td>\n",
       "      <td>Apr-13</td>\n",
       "      <td>119.66</td>\n",
       "      <td>Sep-13</td>\n",
       "      <td>0.0</td>\n",
       "      <td>1</td>\n",
       "      <td>INDIVIDUAL</td>\n",
       "      <td>0.0</td>\n",
       "      <td>0.0</td>\n",
       "      <td>0.0</td>\n",
       "    </tr>\n",
       "    <tr>\n",
       "      <th>2</th>\n",
       "      <td>1077175</td>\n",
       "      <td>1313524</td>\n",
       "      <td>2400</td>\n",
       "      <td>2400</td>\n",
       "      <td>2400.0</td>\n",
       "      <td>36 months</td>\n",
       "      <td>15.96%</td>\n",
       "      <td>84.33</td>\n",
       "      <td>C</td>\n",
       "      <td>C5</td>\n",
       "      <td>...</td>\n",
       "      <td>0.00</td>\n",
       "      <td>Jun-14</td>\n",
       "      <td>649.91</td>\n",
       "      <td>May-16</td>\n",
       "      <td>0.0</td>\n",
       "      <td>1</td>\n",
       "      <td>INDIVIDUAL</td>\n",
       "      <td>0.0</td>\n",
       "      <td>0.0</td>\n",
       "      <td>0.0</td>\n",
       "    </tr>\n",
       "    <tr>\n",
       "      <th>3</th>\n",
       "      <td>1076863</td>\n",
       "      <td>1277178</td>\n",
       "      <td>10000</td>\n",
       "      <td>10000</td>\n",
       "      <td>10000.0</td>\n",
       "      <td>36 months</td>\n",
       "      <td>13.49%</td>\n",
       "      <td>339.31</td>\n",
       "      <td>C</td>\n",
       "      <td>C1</td>\n",
       "      <td>...</td>\n",
       "      <td>0.00</td>\n",
       "      <td>Jan-15</td>\n",
       "      <td>357.48</td>\n",
       "      <td>Apr-16</td>\n",
       "      <td>0.0</td>\n",
       "      <td>1</td>\n",
       "      <td>INDIVIDUAL</td>\n",
       "      <td>0.0</td>\n",
       "      <td>0.0</td>\n",
       "      <td>0.0</td>\n",
       "    </tr>\n",
       "    <tr>\n",
       "      <th>4</th>\n",
       "      <td>1075358</td>\n",
       "      <td>1311748</td>\n",
       "      <td>3000</td>\n",
       "      <td>3000</td>\n",
       "      <td>3000.0</td>\n",
       "      <td>60 months</td>\n",
       "      <td>12.69%</td>\n",
       "      <td>67.79</td>\n",
       "      <td>B</td>\n",
       "      <td>B5</td>\n",
       "      <td>...</td>\n",
       "      <td>0.00</td>\n",
       "      <td>May-16</td>\n",
       "      <td>67.79</td>\n",
       "      <td>May-16</td>\n",
       "      <td>0.0</td>\n",
       "      <td>1</td>\n",
       "      <td>INDIVIDUAL</td>\n",
       "      <td>0.0</td>\n",
       "      <td>0.0</td>\n",
       "      <td>0.0</td>\n",
       "    </tr>\n",
       "  </tbody>\n",
       "</table>\n",
       "<p>5 rows × 52 columns</p>\n",
       "</div>"
      ],
      "text/plain": [
       "        id  member_id  loan_amnt  funded_amnt  funded_amnt_inv        term  \\\n",
       "0  1077501    1296599       5000         5000           4975.0   36 months   \n",
       "1  1077430    1314167       2500         2500           2500.0   60 months   \n",
       "2  1077175    1313524       2400         2400           2400.0   36 months   \n",
       "3  1076863    1277178      10000        10000          10000.0   36 months   \n",
       "4  1075358    1311748       3000         3000           3000.0   60 months   \n",
       "\n",
       "  int_rate  installment grade sub_grade    ...    collection_recovery_fee  \\\n",
       "0   10.65%       162.87     B        B2    ...                       0.00   \n",
       "1   15.27%        59.83     C        C4    ...                       1.11   \n",
       "2   15.96%        84.33     C        C5    ...                       0.00   \n",
       "3   13.49%       339.31     C        C1    ...                       0.00   \n",
       "4   12.69%        67.79     B        B5    ...                       0.00   \n",
       "\n",
       "  last_pymnt_d last_pymnt_amnt  last_credit_pull_d collections_12_mths_ex_med  \\\n",
       "0       Jan-15          171.62              May-16                        0.0   \n",
       "1       Apr-13          119.66              Sep-13                        0.0   \n",
       "2       Jun-14          649.91              May-16                        0.0   \n",
       "3       Jan-15          357.48              Apr-16                        0.0   \n",
       "4       May-16           67.79              May-16                        0.0   \n",
       "\n",
       "  policy_code application_type chargeoff_within_12_mths pub_rec_bankruptcies  \\\n",
       "0           1       INDIVIDUAL                      0.0                  0.0   \n",
       "1           1       INDIVIDUAL                      0.0                  0.0   \n",
       "2           1       INDIVIDUAL                      0.0                  0.0   \n",
       "3           1       INDIVIDUAL                      0.0                  0.0   \n",
       "4           1       INDIVIDUAL                      0.0                  0.0   \n",
       "\n",
       "  tax_liens  \n",
       "0       0.0  \n",
       "1       0.0  \n",
       "2       0.0  \n",
       "3       0.0  \n",
       "4       0.0  \n",
       "\n",
       "[5 rows x 52 columns]"
      ]
     },
     "execution_count": 1118,
     "metadata": {},
     "output_type": "execute_result"
    }
   ],
   "source": [
    "## Checking the top 5 and last 5 rows\n",
    "loan.head()"
   ]
  },
  {
   "cell_type": "code",
   "execution_count": 1119,
   "metadata": {},
   "outputs": [
    {
     "data": {
      "text/html": [
       "<div>\n",
       "<style scoped>\n",
       "    .dataframe tbody tr th:only-of-type {\n",
       "        vertical-align: middle;\n",
       "    }\n",
       "\n",
       "    .dataframe tbody tr th {\n",
       "        vertical-align: top;\n",
       "    }\n",
       "\n",
       "    .dataframe thead th {\n",
       "        text-align: right;\n",
       "    }\n",
       "</style>\n",
       "<table border=\"1\" class=\"dataframe\">\n",
       "  <thead>\n",
       "    <tr style=\"text-align: right;\">\n",
       "      <th></th>\n",
       "      <th>id</th>\n",
       "      <th>member_id</th>\n",
       "      <th>loan_amnt</th>\n",
       "      <th>funded_amnt</th>\n",
       "      <th>funded_amnt_inv</th>\n",
       "      <th>term</th>\n",
       "      <th>int_rate</th>\n",
       "      <th>installment</th>\n",
       "      <th>grade</th>\n",
       "      <th>sub_grade</th>\n",
       "      <th>...</th>\n",
       "      <th>collection_recovery_fee</th>\n",
       "      <th>last_pymnt_d</th>\n",
       "      <th>last_pymnt_amnt</th>\n",
       "      <th>last_credit_pull_d</th>\n",
       "      <th>collections_12_mths_ex_med</th>\n",
       "      <th>policy_code</th>\n",
       "      <th>application_type</th>\n",
       "      <th>chargeoff_within_12_mths</th>\n",
       "      <th>pub_rec_bankruptcies</th>\n",
       "      <th>tax_liens</th>\n",
       "    </tr>\n",
       "  </thead>\n",
       "  <tbody>\n",
       "    <tr>\n",
       "      <th>39712</th>\n",
       "      <td>92187</td>\n",
       "      <td>92174</td>\n",
       "      <td>2500</td>\n",
       "      <td>2500</td>\n",
       "      <td>1075.0</td>\n",
       "      <td>36 months</td>\n",
       "      <td>8.07%</td>\n",
       "      <td>78.42</td>\n",
       "      <td>A</td>\n",
       "      <td>A4</td>\n",
       "      <td>...</td>\n",
       "      <td>0.0</td>\n",
       "      <td>Jul-10</td>\n",
       "      <td>80.90</td>\n",
       "      <td>Jun-10</td>\n",
       "      <td>NaN</td>\n",
       "      <td>1</td>\n",
       "      <td>INDIVIDUAL</td>\n",
       "      <td>NaN</td>\n",
       "      <td>NaN</td>\n",
       "      <td>NaN</td>\n",
       "    </tr>\n",
       "    <tr>\n",
       "      <th>39713</th>\n",
       "      <td>90665</td>\n",
       "      <td>90607</td>\n",
       "      <td>8500</td>\n",
       "      <td>8500</td>\n",
       "      <td>875.0</td>\n",
       "      <td>36 months</td>\n",
       "      <td>10.28%</td>\n",
       "      <td>275.38</td>\n",
       "      <td>C</td>\n",
       "      <td>C1</td>\n",
       "      <td>...</td>\n",
       "      <td>0.0</td>\n",
       "      <td>Jul-10</td>\n",
       "      <td>281.94</td>\n",
       "      <td>Jul-10</td>\n",
       "      <td>NaN</td>\n",
       "      <td>1</td>\n",
       "      <td>INDIVIDUAL</td>\n",
       "      <td>NaN</td>\n",
       "      <td>NaN</td>\n",
       "      <td>NaN</td>\n",
       "    </tr>\n",
       "    <tr>\n",
       "      <th>39714</th>\n",
       "      <td>90395</td>\n",
       "      <td>90390</td>\n",
       "      <td>5000</td>\n",
       "      <td>5000</td>\n",
       "      <td>1325.0</td>\n",
       "      <td>36 months</td>\n",
       "      <td>8.07%</td>\n",
       "      <td>156.84</td>\n",
       "      <td>A</td>\n",
       "      <td>A4</td>\n",
       "      <td>...</td>\n",
       "      <td>0.0</td>\n",
       "      <td>Apr-08</td>\n",
       "      <td>0.00</td>\n",
       "      <td>Jun-07</td>\n",
       "      <td>NaN</td>\n",
       "      <td>1</td>\n",
       "      <td>INDIVIDUAL</td>\n",
       "      <td>NaN</td>\n",
       "      <td>NaN</td>\n",
       "      <td>NaN</td>\n",
       "    </tr>\n",
       "    <tr>\n",
       "      <th>39715</th>\n",
       "      <td>90376</td>\n",
       "      <td>89243</td>\n",
       "      <td>5000</td>\n",
       "      <td>5000</td>\n",
       "      <td>650.0</td>\n",
       "      <td>36 months</td>\n",
       "      <td>7.43%</td>\n",
       "      <td>155.38</td>\n",
       "      <td>A</td>\n",
       "      <td>A2</td>\n",
       "      <td>...</td>\n",
       "      <td>0.0</td>\n",
       "      <td>Jan-08</td>\n",
       "      <td>0.00</td>\n",
       "      <td>Jun-07</td>\n",
       "      <td>NaN</td>\n",
       "      <td>1</td>\n",
       "      <td>INDIVIDUAL</td>\n",
       "      <td>NaN</td>\n",
       "      <td>NaN</td>\n",
       "      <td>NaN</td>\n",
       "    </tr>\n",
       "    <tr>\n",
       "      <th>39716</th>\n",
       "      <td>87023</td>\n",
       "      <td>86999</td>\n",
       "      <td>7500</td>\n",
       "      <td>7500</td>\n",
       "      <td>800.0</td>\n",
       "      <td>36 months</td>\n",
       "      <td>13.75%</td>\n",
       "      <td>255.43</td>\n",
       "      <td>E</td>\n",
       "      <td>E2</td>\n",
       "      <td>...</td>\n",
       "      <td>0.0</td>\n",
       "      <td>Jun-10</td>\n",
       "      <td>256.59</td>\n",
       "      <td>Jun-10</td>\n",
       "      <td>NaN</td>\n",
       "      <td>1</td>\n",
       "      <td>INDIVIDUAL</td>\n",
       "      <td>NaN</td>\n",
       "      <td>NaN</td>\n",
       "      <td>NaN</td>\n",
       "    </tr>\n",
       "  </tbody>\n",
       "</table>\n",
       "<p>5 rows × 52 columns</p>\n",
       "</div>"
      ],
      "text/plain": [
       "          id  member_id  loan_amnt  funded_amnt  funded_amnt_inv        term  \\\n",
       "39712  92187      92174       2500         2500           1075.0   36 months   \n",
       "39713  90665      90607       8500         8500            875.0   36 months   \n",
       "39714  90395      90390       5000         5000           1325.0   36 months   \n",
       "39715  90376      89243       5000         5000            650.0   36 months   \n",
       "39716  87023      86999       7500         7500            800.0   36 months   \n",
       "\n",
       "      int_rate  installment grade sub_grade    ...    collection_recovery_fee  \\\n",
       "39712    8.07%        78.42     A        A4    ...                        0.0   \n",
       "39713   10.28%       275.38     C        C1    ...                        0.0   \n",
       "39714    8.07%       156.84     A        A4    ...                        0.0   \n",
       "39715    7.43%       155.38     A        A2    ...                        0.0   \n",
       "39716   13.75%       255.43     E        E2    ...                        0.0   \n",
       "\n",
       "      last_pymnt_d last_pymnt_amnt  last_credit_pull_d  \\\n",
       "39712       Jul-10           80.90              Jun-10   \n",
       "39713       Jul-10          281.94              Jul-10   \n",
       "39714       Apr-08            0.00              Jun-07   \n",
       "39715       Jan-08            0.00              Jun-07   \n",
       "39716       Jun-10          256.59              Jun-10   \n",
       "\n",
       "      collections_12_mths_ex_med policy_code application_type  \\\n",
       "39712                        NaN           1       INDIVIDUAL   \n",
       "39713                        NaN           1       INDIVIDUAL   \n",
       "39714                        NaN           1       INDIVIDUAL   \n",
       "39715                        NaN           1       INDIVIDUAL   \n",
       "39716                        NaN           1       INDIVIDUAL   \n",
       "\n",
       "      chargeoff_within_12_mths pub_rec_bankruptcies tax_liens  \n",
       "39712                      NaN                  NaN       NaN  \n",
       "39713                      NaN                  NaN       NaN  \n",
       "39714                      NaN                  NaN       NaN  \n",
       "39715                      NaN                  NaN       NaN  \n",
       "39716                      NaN                  NaN       NaN  \n",
       "\n",
       "[5 rows x 52 columns]"
      ]
     },
     "execution_count": 1119,
     "metadata": {},
     "output_type": "execute_result"
    }
   ],
   "source": [
    "loan.tail()"
   ]
  },
  {
   "cell_type": "code",
   "execution_count": 1120,
   "metadata": {},
   "outputs": [
    {
     "data": {
      "text/plain": [
       "id                             0.000000\n",
       "member_id                      0.000000\n",
       "loan_amnt                      0.000000\n",
       "funded_amnt                    0.000000\n",
       "funded_amnt_inv                0.000000\n",
       "term                           0.000000\n",
       "int_rate                       0.000000\n",
       "installment                    0.000000\n",
       "grade                          0.000000\n",
       "sub_grade                      0.000000\n",
       "emp_title                      6.191303\n",
       "emp_length                     2.706650\n",
       "home_ownership                 0.000000\n",
       "annual_inc                     0.000000\n",
       "verification_status            0.000000\n",
       "issue_d                        0.000000\n",
       "loan_status                    0.000000\n",
       "pymnt_plan                     0.000000\n",
       "url                            0.000000\n",
       "desc                          32.580507\n",
       "purpose                        0.000000\n",
       "title                          0.027696\n",
       "zip_code                       0.000000\n",
       "addr_state                     0.000000\n",
       "dti                            0.000000\n",
       "delinq_2yrs                    0.000000\n",
       "earliest_cr_line               0.000000\n",
       "inq_last_6mths                 0.000000\n",
       "open_acc                       0.000000\n",
       "pub_rec                        0.000000\n",
       "revol_bal                      0.000000\n",
       "revol_util                     0.125891\n",
       "total_acc                      0.000000\n",
       "initial_list_status            0.000000\n",
       "out_prncp                      0.000000\n",
       "out_prncp_inv                  0.000000\n",
       "total_pymnt                    0.000000\n",
       "total_pymnt_inv                0.000000\n",
       "total_rec_prncp                0.000000\n",
       "total_rec_int                  0.000000\n",
       "total_rec_late_fee             0.000000\n",
       "recoveries                     0.000000\n",
       "collection_recovery_fee        0.000000\n",
       "last_pymnt_d                   0.178765\n",
       "last_pymnt_amnt                0.000000\n",
       "last_credit_pull_d             0.005036\n",
       "collections_12_mths_ex_med     0.140998\n",
       "policy_code                    0.000000\n",
       "application_type               0.000000\n",
       "chargeoff_within_12_mths       0.140998\n",
       "pub_rec_bankruptcies           1.754916\n",
       "tax_liens                      0.098195\n",
       "dtype: float64"
      ]
     },
     "execution_count": 1120,
     "metadata": {},
     "output_type": "execute_result"
    }
   ],
   "source": [
    "### Checking how many Null values are still present in each column\n",
    "(loan.isnull().sum()/loan.shape[0]) * 100"
   ]
  },
  {
   "cell_type": "code",
   "execution_count": 1121,
   "metadata": {},
   "outputs": [],
   "source": [
    "## 'Description' Column has lot of null values and they can't be imputed\n",
    "## Dropping the 'desc' column as well\n",
    "loan.drop(\"desc\", axis=1, inplace= True)"
   ]
  },
  {
   "cell_type": "code",
   "execution_count": 1122,
   "metadata": {},
   "outputs": [
    {
     "data": {
      "text/plain": [
       "8.273535261978493"
      ]
     },
     "execution_count": 1122,
     "metadata": {},
     "output_type": "execute_result"
    }
   ],
   "source": [
    "## Checking percentage of rows we are removing having even a single null value\n",
    "(1 - loan.dropna(axis=0, how=\"any\").shape[0]/loan.shape[0]) * 100\n",
    "## We only lose around 8% data if we drop all rows having even a single null value.\n",
    "## So, we are not losing much data. Hence we can continue with strategy."
   ]
  },
  {
   "cell_type": "code",
   "execution_count": 1123,
   "metadata": {},
   "outputs": [],
   "source": [
    "## Dropping rows even if they have one Null value\n",
    "loan = loan.dropna(axis=0, how=\"any\")"
   ]
  },
  {
   "cell_type": "code",
   "execution_count": 1124,
   "metadata": {},
   "outputs": [
    {
     "data": {
      "text/plain": [
       "(36431, 51)"
      ]
     },
     "execution_count": 1124,
     "metadata": {},
     "output_type": "execute_result"
    }
   ],
   "source": [
    "loan.shape"
   ]
  },
  {
   "cell_type": "code",
   "execution_count": 1125,
   "metadata": {},
   "outputs": [
    {
     "name": "stdout",
     "output_type": "stream",
     "text": [
      "Index(['collections_12_mths_ex_med', 'chargeoff_within_12_mths', 'tax_liens'], dtype='object')\n"
     ]
    }
   ],
   "source": [
    "## Again cheking if there are any columns which has only '0' as value\n",
    "print(loan.loc[:,(loan == 0).all(axis=0)].columns)\n",
    "## The below 3 columns will not contribute anything in analysis since there is no variation"
   ]
  },
  {
   "cell_type": "code",
   "execution_count": 1126,
   "metadata": {},
   "outputs": [],
   "source": [
    "## Dropping the above 3 columns\n",
    "loan = loan.drop(list(loan.loc[:,(loan == 0).all(axis=0)].columns), axis=1)"
   ]
  },
  {
   "cell_type": "code",
   "execution_count": 1127,
   "metadata": {},
   "outputs": [
    {
     "data": {
      "text/plain": [
       "Fully Paid     30423\n",
       "Charged Off     4942\n",
       "Current         1066\n",
       "Name: loan_status, dtype: int64"
      ]
     },
     "execution_count": 1127,
     "metadata": {},
     "output_type": "execute_result"
    }
   ],
   "source": [
    "## Checking unique values of oan status\n",
    "loan[\"loan_status\"].value_counts()"
   ]
  },
  {
   "cell_type": "code",
   "execution_count": 1128,
   "metadata": {},
   "outputs": [],
   "source": [
    "## Now we don't need data for people who are currently paying the loan since we can't do analysis on those people\n",
    "## So removing rows where 'loan_status' is 'Current'\n",
    "loan = loan.loc[loan[\"loan_status\"] != \"Current\",:]"
   ]
  },
  {
   "cell_type": "code",
   "execution_count": 1129,
   "metadata": {},
   "outputs": [
    {
     "data": {
      "text/plain": [
       "(35365, 48)"
      ]
     },
     "execution_count": 1129,
     "metadata": {},
     "output_type": "execute_result"
    }
   ],
   "source": [
    "## Checking the final shape after all cleaning\n",
    "loan.shape"
   ]
  },
  {
   "cell_type": "markdown",
   "metadata": {},
   "source": [
    "### Data Cleaning  and Exploration Summary\n",
    "\n",
    "1.) There are `56` columns having more than `90%` Null Values\n",
    "\n",
    "2.) Dropped columns with more than `60%` Null Values ( `57 Columns`)\n",
    "\n",
    "3.) Dropped description column (`desc`) \n",
    "\n",
    "4.) Dropped all rows with one or more than one null values\n",
    "\n",
    "5.) After above steps, we removed `8.27%` of rows\n",
    "\n",
    "6.) Once we removed rows we get 3 extra columns having all values equal to 0\n",
    "\n",
    "7.) Dropping these 3 columns as well there are `48 columns left`\n",
    "\n",
    "8.) We can't do any analysis on the people who are currently payinh the loan. So, removed the rows where `loan_status` is `Current`\n",
    "\n",
    "8.) So, we are left with `35365 rows and 48 Columns` for further analysis"
   ]
  },
  {
   "cell_type": "markdown",
   "metadata": {},
   "source": [
    "### Starting with EDA\n",
    "\n",
    "###### Checking number of unique values in each column. If there is only 1 unique value for a column, that means the column is insignificant"
   ]
  },
  {
   "cell_type": "code",
   "execution_count": 998,
   "metadata": {},
   "outputs": [
    {
     "name": "stdout",
     "output_type": "stream",
     "text": [
      "id  :  35365\n",
      "member_id  :  35365\n",
      "loan_amnt  :  847\n",
      "funded_amnt  :  1001\n",
      "funded_amnt_inv  :  7324\n",
      "term  :  2\n",
      "int_rate  :  333\n",
      "installment  :  14026\n",
      "grade  :  7\n",
      "sub_grade  :  35\n",
      "emp_title  :  27412\n",
      "emp_length  :  11\n",
      "home_ownership  :  4\n",
      "annual_inc  :  4830\n",
      "verification_status  :  3\n",
      "issue_d  :  51\n",
      "loan_status  :  2\n",
      "pymnt_plan  :  1\n",
      "url  :  35365\n",
      "purpose  :  14\n",
      "title  :  17660\n",
      "zip_code  :  804\n",
      "addr_state  :  48\n",
      "dti  :  2842\n",
      "delinq_2yrs  :  11\n",
      "earliest_cr_line  :  509\n",
      "inq_last_6mths  :  9\n",
      "open_acc  :  38\n",
      "pub_rec  :  5\n",
      "revol_bal  :  20351\n",
      "revol_util  :  1081\n",
      "total_acc  :  79\n",
      "initial_list_status  :  1\n",
      "out_prncp  :  1\n",
      "out_prncp_inv  :  1\n",
      "total_pymnt  :  33738\n",
      "total_pymnt_inv  :  33464\n",
      "total_rec_prncp  :  6192\n",
      "total_rec_int  :  31468\n",
      "total_rec_late_fee  :  1163\n",
      "recoveries  :  3584\n",
      "collection_recovery_fee  :  2386\n",
      "last_pymnt_d  :  97\n",
      "last_pymnt_amnt  :  31984\n",
      "last_credit_pull_d  :  96\n",
      "policy_code  :  1\n",
      "application_type  :  1\n",
      "pub_rec_bankruptcies  :  3\n"
     ]
    }
   ],
   "source": [
    "## Checking the number of unique values in each column\n",
    "for i in loan.columns:\n",
    "    \n",
    "    print(i, \" : \", loan[i].nunique())"
   ]
  },
  {
   "cell_type": "code",
   "execution_count": 999,
   "metadata": {},
   "outputs": [],
   "source": [
    "## Looks like there are few columns which have only 1 unique value. \n",
    "## Lets drop these since they will not add any information in our analysis\n",
    "\n",
    "for i in loan.columns:\n",
    "    \n",
    "    if loan[i].nunique() == 1:\n",
    "        \n",
    "        loan.drop(i, axis=1, inplace= True)"
   ]
  },
  {
   "cell_type": "code",
   "execution_count": 1000,
   "metadata": {},
   "outputs": [
    {
     "data": {
      "text/plain": [
       "(35365, 42)"
      ]
     },
     "execution_count": 1000,
     "metadata": {},
     "output_type": "execute_result"
    }
   ],
   "source": [
    "## Printing the shape of loan data set\n",
    "loan.shape"
   ]
  },
  {
   "cell_type": "code",
   "execution_count": 1001,
   "metadata": {},
   "outputs": [],
   "source": [
    "## Dropping the ID columns as well since they can't be used for our analysis:\n",
    "loan.drop([\"id\", \"member_id\"], axis=1, inplace= True)"
   ]
  },
  {
   "cell_type": "markdown",
   "metadata": {},
   "source": [
    "##### After further cleaning, the data available for analysis has `35365` rows and `42` columns"
   ]
  },
  {
   "cell_type": "code",
   "execution_count": 1002,
   "metadata": {},
   "outputs": [],
   "source": [
    "## Separating categorical and contiuous variables\n",
    "cat_cols = []\n",
    "cont_cols = []\n",
    "for i in loan.columns:\n",
    "    \n",
    "    if loan[i].nunique() < 15 or loan[i].dtype == \"object\":\n",
    "        \n",
    "        cat_cols.append(i)\n",
    "        \n",
    "    else:\n",
    "        \n",
    "        cont_cols.append(i)"
   ]
  },
  {
   "cell_type": "markdown",
   "metadata": {},
   "source": [
    "### Starting with Uniavariate and  Bivariate Analysis and checking how each variable impacts Target column\n",
    "\n",
    "##### Lets check what's the frequency in dependent variable `loan_status`"
   ]
  },
  {
   "cell_type": "code",
   "execution_count": 1003,
   "metadata": {},
   "outputs": [
    {
     "data": {
      "image/png": "[encoded data removed]",
      "text/plain": [
       "<Figure size 432x288 with 1 Axes>"
      ]
     },
     "metadata": {
      "needs_background": "light"
     },
     "output_type": "display_data"
    }
   ],
   "source": [
    "sns.countplot(loan[\"loan_status\"])\n",
    "plt.show()\n",
    "## This shows the data is highly skewed. People who default are way less as compared to people who pays full loan"
   ]
  },
  {
   "cell_type": "code",
   "execution_count": 1174,
   "metadata": {},
   "outputs": [],
   "source": [
    "## Charged off : Default : 1\n",
    "## Fully Paid : loan completed : 0\n",
    "# loan[\"loan_status\"] = loan[\"loan_status\"].apply(lambda x: 1 if x == \"Charged Off\" else 0)\n",
    "loan[\"loan_status\"] = loan[\"loan_status\"].apply(lambda x: 1 if x == \"Charged Off\" else 0)\n",
    "# loan[\"loan_status\"] = loan[\"loan_status\"].astype(\"category\")"
   ]
  },
  {
   "cell_type": "markdown",
   "metadata": {},
   "source": [
    "### Impact of `term` on `loan_status`"
   ]
  },
  {
   "cell_type": "code",
   "execution_count": 1005,
   "metadata": {},
   "outputs": [
    {
     "data": {
      "image/png": "[encoded data removed]",
      "text/plain": [
       "<Figure size 432x288 with 1 Axes>"
      ]
     },
     "metadata": {
      "needs_background": "light"
     },
     "output_type": "display_data"
    }
   ],
   "source": [
    "## Let's plot this variable\n",
    "sns.countplot(x = loan[\"term\"])\n",
    "plt.show()"
   ]
  },
  {
   "cell_type": "code",
   "execution_count": 1006,
   "metadata": {},
   "outputs": [
    {
     "data": {
      "image/png": "[encoded data removed]",
      "text/plain": [
       "<Figure size 432x288 with 1 Axes>"
      ]
     },
     "metadata": {
      "needs_background": "light"
     },
     "output_type": "display_data"
    }
   ],
   "source": [
    "## Checking the impact of loan term on loan_status\n",
    "sns.countplot(\"term\", data=loan, hue=\"loan_status\")\n",
    "plt.show()"
   ]
  },
  {
   "cell_type": "markdown",
   "metadata": {},
   "source": [
    "###### The tenure doesn't have any significant impact on `loan status`. For both 36 and 60 months tenure, number of defaulters are alomst same.\n",
    "###### But if we see as total, the number of loans given for 36 months are much higher than 60 months"
   ]
  },
  {
   "cell_type": "markdown",
   "metadata": {},
   "source": [
    "### Impact of  `annual_inc` on `loan_status`"
   ]
  },
  {
   "cell_type": "code",
   "execution_count": 1008,
   "metadata": {},
   "outputs": [
    {
     "data": {
      "image/png": "[encoded data removed]",
      "text/plain": [
       "<Figure size 432x288 with 1 Axes>"
      ]
     },
     "metadata": {
      "needs_background": "light"
     },
     "output_type": "display_data"
    }
   ],
   "source": [
    "## Checking the annual income if it has outliers or not\n",
    "sns.boxplot(np.log(loan[\"annual_inc\"]))\n",
    "plt.show()"
   ]
  },
  {
   "cell_type": "code",
   "execution_count": 1010,
   "metadata": {},
   "outputs": [
    {
     "name": "stdout",
     "output_type": "stream",
     "text": [
      "140000.0\n"
     ]
    }
   ],
   "source": [
    "## Lets check the percentile values for annual income\n",
    "print(np.percentile(loan[\"annual_inc\"], q=95))\n",
    "## 95 percent of people have annual income band less than 140K, Lets limit this variable upto 140k and do analysis on that"
   ]
  },
  {
   "cell_type": "code",
   "execution_count": 1012,
   "metadata": {},
   "outputs": [
    {
     "name": "stdout",
     "output_type": "stream",
     "text": [
      "(33502, 40)\n"
     ]
    }
   ],
   "source": [
    "## Lets analyize the data upto 95% percentile since there is lot of outliers\n",
    "loan_temp = loan.loc[loan[\"annual_inc\"] < 140000, :]\n",
    "print(loan_temp.shape)"
   ]
  },
  {
   "cell_type": "code",
   "execution_count": 1014,
   "metadata": {},
   "outputs": [
    {
     "data": {
      "image/png": "[encoded data removed]",
      "text/plain": [
       "<Figure size 432x288 with 1 Axes>"
      ]
     },
     "metadata": {
      "needs_background": "light"
     },
     "output_type": "display_data"
    }
   ],
   "source": [
    "## Checking the annual income in filtered data if it has outliers or not\n",
    "## There are very few outliers present now\n",
    "sns.boxplot(loan_temp[\"annual_inc\"])\n",
    "plt.show()"
   ]
  },
  {
   "cell_type": "code",
   "execution_count": 1015,
   "metadata": {},
   "outputs": [
    {
     "data": {
      "text/plain": [
       "61146.322387021646"
      ]
     },
     "execution_count": 1015,
     "metadata": {},
     "output_type": "execute_result"
    }
   ],
   "source": [
    "np.mean(loan_temp[\"annual_inc\"])"
   ]
  },
  {
   "cell_type": "code",
   "execution_count": 1017,
   "metadata": {},
   "outputs": [
    {
     "name": "stderr",
     "output_type": "stream",
     "text": [
      "/anaconda3/lib/python3.7/site-packages/ipykernel_launcher.py:2: SettingWithCopyWarning: \n",
      "A value is trying to be set on a copy of a slice from a DataFrame.\n",
      "Try using .loc[row_indexer,col_indexer] = value instead\n",
      "\n",
      "See the caveats in the documentation: http://pandas.pydata.org/pandas-docs/stable/indexing.html#indexing-view-versus-copy\n",
      "  \n"
     ]
    }
   ],
   "source": [
    "## creating annual income band\n",
    "loan_temp[\"inc_band\"] = loan_temp[\"annual_inc\"].apply(lambda x: \"<62k\" if x < 62000 else \">=62k\")\n",
    "temp = loan_temp.loc[loan_temp.loan_status == 1, [\"inc_band\", \"loan_status\"]]"
   ]
  },
  {
   "cell_type": "code",
   "execution_count": 1019,
   "metadata": {},
   "outputs": [
    {
     "data": {
      "image/png": "[encoded data removed]",
      "text/plain": [
       "<Figure size 432x288 with 1 Axes>"
      ]
     },
     "metadata": {
      "needs_background": "light"
     },
     "output_type": "display_data"
    }
   ],
   "source": [
    "## Checking the impact of annual income on loan_status\n",
    "sns.countplot(x=\"loan_status\", data=temp, hue= \"inc_band\")\n",
    "plt.show()"
   ]
  },
  {
   "cell_type": "markdown",
   "metadata": {},
   "source": [
    "###### From the above plot it is quite clear that  most of the defaulters lie in income range less than 62K. \n",
    "###### Hence `annual income` is one of the significant factors to check while providing loan"
   ]
  },
  {
   "cell_type": "markdown",
   "metadata": {},
   "source": [
    "### Checking impact of `total payment done including interest` on `loan_status`"
   ]
  },
  {
   "cell_type": "code",
   "execution_count": 1028,
   "metadata": {},
   "outputs": [
    {
     "data": {
      "image/png": "[encoded data removed]",
      "text/plain": [
       "<Figure size 432x288 with 1 Axes>"
      ]
     },
     "metadata": {
      "needs_background": "light"
     },
     "output_type": "display_data"
    }
   ],
   "source": [
    "## Checking the outliers and median for \"total_paymt\" variable\n",
    "sns.boxplot(loan[\"loa\"])\n",
    "# sns.boxplot(loan[\"total_rec_int\"])\n",
    "plt.show()\n",
    "## There are outliers so checking the median and creating the slab for this column"
   ]
  },
  {
   "cell_type": "code",
   "execution_count": 1032,
   "metadata": {},
   "outputs": [
    {
     "name": "stdout",
     "output_type": "stream",
     "text": [
      "The median of `total_pymt` received is:  9866.0\n"
     ]
    }
   ],
   "source": [
    "## Calculating median\n",
    "a = np.median(loan[\"total_pymnt\"])\n",
    "# a = np.median(loan[\"total_rec_int\"])\n",
    "print(\"The median of `total_pymt` received is: \", round(a))\n"
   ]
  },
  {
   "cell_type": "code",
   "execution_count": 1033,
   "metadata": {},
   "outputs": [],
   "source": [
    "## creating bin for this column\n",
    "loan[\"tot_pmt_temp\"] = loan.total_rec_int.apply(lambda x: 1 if x <= a else 0)\n",
    "## 1 represent total amount less than 9865 (median) or 114%\n",
    "## 0 represent total amount more than 9865 (median) or 114%\n",
    "temp = loan.loc[loan.loan_status == 1, [\"tot_pmt_temp\", \"loan_status\"]]"
   ]
  },
  {
   "cell_type": "code",
   "execution_count": 1034,
   "metadata": {},
   "outputs": [
    {
     "data": {
      "image/png": "[encoded data removed]",
      "text/plain": [
       "<Figure size 1440x720 with 1 Axes>"
      ]
     },
     "metadata": {
      "needs_background": "light"
     },
     "output_type": "display_data"
    }
   ],
   "source": [
    "## Checking the impact\n",
    "plt.figure(figsize=(20,10))\n",
    "sns.countplot(data=temp, x = \"loan_status\", hue = \"tot_pmt_temp\")\n",
    "plt.show()"
   ]
  },
  {
   "cell_type": "markdown",
   "metadata": {},
   "source": [
    "###### From above analysis we can't whether a loan should be given or not.\n",
    "\n",
    "###### But if a person has paid less than median amount (9865), they should be under scanner if they are regularly paying or not"
   ]
  },
  {
   "cell_type": "markdown",
   "metadata": {},
   "source": [
    "### Checking impact of `Interest rate` on `loan_status`"
   ]
  },
  {
   "cell_type": "code",
   "execution_count": 1039,
   "metadata": {},
   "outputs": [],
   "source": [
    "## Cleaning the int_rate column\n",
    "loan[\"int_rate\"] = loan[\"int_rate\"].apply(lambda x: float(x.replace(\"%\", \"\")))\n",
    "loan['int_rate'] = pd.to_numeric(loan['int_rate'])"
   ]
  },
  {
   "cell_type": "code",
   "execution_count": 1040,
   "metadata": {},
   "outputs": [
    {
     "data": {
      "image/png": "[encoded data removed]",
      "text/plain": [
       "<Figure size 432x288 with 1 Axes>"
      ]
     },
     "metadata": {
      "needs_background": "light"
     },
     "output_type": "display_data"
    }
   ],
   "source": [
    "## Checking the outliers\n",
    "sns.boxplot(loan[\"int_rate\"])\n",
    "plt.show()\n",
    "## There are not many outliers present in `int_rate` column"
   ]
  },
  {
   "cell_type": "code",
   "execution_count": 1057,
   "metadata": {},
   "outputs": [
    {
     "data": {
      "image/png": "[encoded data removed]",
      "text/plain": [
       "<Figure size 1440x576 with 1 Axes>"
      ]
     },
     "metadata": {},
     "output_type": "display_data"
    }
   ],
   "source": [
    "## Checking the distribution of interest rate\n",
    "sns.distplot(loan[\"int_rate\"], kde= False)\n",
    "plt.show()"
   ]
  },
  {
   "cell_type": "markdown",
   "metadata": {},
   "source": [
    "##### This shows that most of the population lies within 20% range"
   ]
  },
  {
   "cell_type": "code",
   "execution_count": 1044,
   "metadata": {},
   "outputs": [],
   "source": [
    "## Creating the bins for interest rate\n",
    "breaks = [5,10,15,20,25]\n",
    "groups = [\"5-10\",\"10-15\",\"15-20\",\"20-25\"]\n",
    "loan['Int_Rate_Range'] = pd.cut(loan['int_rate'],breaks,labels=groups)\n",
    "loan_Int_Rate_Group = loan.groupby(by=\"Int_Rate_Range\").agg({\"loan_status\":\"sum\"}).reset_index()"
   ]
  },
  {
   "cell_type": "code",
   "execution_count": 1054,
   "metadata": {},
   "outputs": [],
   "source": [
    "## Calculating the percentage of defaulters in each band\n",
    "percentage1 = (loan_Int_Rate_Group.loc[0,'loan_status']/loan[loan['Int_Rate_Range'] == \"5-10\"].shape[0])*100\n",
    "percentage2 = (loan_Int_Rate_Group.loc[1,'loan_status']/loan[loan['Int_Rate_Range'] == \"10-15\"].shape[0])*100\n",
    "percentage3 = (loan_Int_Rate_Group.loc[2,'loan_status']/loan[loan['Int_Rate_Range'] == \"15-20\"].shape[0])*100\n",
    "percentage4 = (loan_Int_Rate_Group.loc[3,'loan_status']/loan[loan['Int_Rate_Range'] == \"20-25\"].shape[0])*100\n",
    "percentage = [percentage1,percentage2,percentage3,percentage4]\n",
    "loan_Int_Rate_Group['Defaut_Percentage'] = percentage"
   ]
  },
  {
   "cell_type": "code",
   "execution_count": 1056,
   "metadata": {},
   "outputs": [
    {
     "data": {
      "text/plain": [
       "Text(0.5, 1.0, 'Impact of Interest Rate')"
      ]
     },
     "execution_count": 1056,
     "metadata": {},
     "output_type": "execute_result"
    },
    {
     "data": {
      "image/png": "[encoded data removed]",
      "text/plain": [
       "<Figure size 1440x576 with 1 Axes>"
      ]
     },
     "metadata": {},
     "output_type": "display_data"
    }
   ],
   "source": [
    "sns.set(rc={'figure.figsize':(20,8)})\n",
    "plot = sns.barplot(x=\"Int_Rate_Range\", y=\"Defaut_Percentage\",data=loan_Int_Rate_Group);\n",
    "plot.set(xlabel='Interest Rate', ylabel='Defaut_Percentage')\n",
    "plt.title(\"Impact of Interest Rate\")"
   ]
  },
  {
   "cell_type": "markdown",
   "metadata": {},
   "source": [
    "##### From above its quite clear that as interest rate increases, chance that people will default on their loan increases.\n",
    "\n",
    "##### Although its possible that there might be very less applicants in the last two bands, but the chances of default are very high in that range\n",
    "\n"
   ]
  },
  {
   "cell_type": "markdown",
   "metadata": {},
   "source": [
    "### Checking impact of `Employment Experience` on `loan_status`"
   ]
  },
  {
   "cell_type": "code",
   "execution_count": 1069,
   "metadata": {},
   "outputs": [
    {
     "data": {
      "image/png": "[encoded data removed]",
      "text/plain": [
       "<Figure size 1440x576 with 1 Axes>"
      ]
     },
     "metadata": {},
     "output_type": "display_data"
    }
   ],
   "source": [
    "## Exploring the columns\n",
    "sns.countplot(loan[\"emp_length\"])\n",
    "plt.show()"
   ]
  },
  {
   "cell_type": "code",
   "execution_count": 1134,
   "metadata": {},
   "outputs": [],
   "source": [
    "## Lets clean the column \n",
    "loan[\"emp_length\"] = loan[\"emp_length\"].apply(lambda x: str(x).replace(\"years\", \"\").replace(\"year\", \"\"))"
   ]
  },
  {
   "cell_type": "code",
   "execution_count": 1164,
   "metadata": {},
   "outputs": [],
   "source": [
    "loan[\"emp_length\"] = loan[\"emp_length\"].apply(lambda x: str(x).replace(\"< \", \"\").replace(\"+\",\"\"))\n",
    "loan[\"emp_length\"] = pd.to_numeric(loan[\"emp_length\"])"
   ]
  },
  {
   "cell_type": "code",
   "execution_count": 1167,
   "metadata": {},
   "outputs": [],
   "source": [
    "## Binning of 'Year Experience' column.\n",
    "bins = [1,5,9,10]\n",
    "groups = [\"1-5\",\"5-9\", \"9+\"] \n",
    "loan['exp_range'] = pd.cut(loan['emp_length'],bins,labels=groups)"
   ]
  },
  {
   "cell_type": "code",
   "execution_count": 1182,
   "metadata": {},
   "outputs": [
    {
     "data": {
      "text/html": [
       "<div>\n",
       "<style scoped>\n",
       "    .dataframe tbody tr th:only-of-type {\n",
       "        vertical-align: middle;\n",
       "    }\n",
       "\n",
       "    .dataframe tbody tr th {\n",
       "        vertical-align: top;\n",
       "    }\n",
       "\n",
       "    .dataframe thead th {\n",
       "        text-align: right;\n",
       "    }\n",
       "</style>\n",
       "<table border=\"1\" class=\"dataframe\">\n",
       "  <thead>\n",
       "    <tr style=\"text-align: right;\">\n",
       "      <th></th>\n",
       "      <th>exp_range</th>\n",
       "      <th>loan_amnt</th>\n",
       "      <th>Def_Percent</th>\n",
       "    </tr>\n",
       "  </thead>\n",
       "  <tbody>\n",
       "    <tr>\n",
       "      <th>0</th>\n",
       "      <td>1-5</td>\n",
       "      <td>11369.059536</td>\n",
       "      <td>13.401116</td>\n",
       "    </tr>\n",
       "    <tr>\n",
       "      <th>1</th>\n",
       "      <td>5-9</td>\n",
       "      <td>12831.414662</td>\n",
       "      <td>13.997114</td>\n",
       "    </tr>\n",
       "    <tr>\n",
       "      <th>2</th>\n",
       "      <td>9+</td>\n",
       "      <td>14624.776967</td>\n",
       "      <td>15.358744</td>\n",
       "    </tr>\n",
       "  </tbody>\n",
       "</table>\n",
       "</div>"
      ],
      "text/plain": [
       "  exp_range     loan_amnt  Def_Percent\n",
       "0       1-5  11369.059536    13.401116\n",
       "1       5-9  12831.414662    13.997114\n",
       "2        9+  14624.776967    15.358744"
      ]
     },
     "execution_count": 1182,
     "metadata": {},
     "output_type": "execute_result"
    }
   ],
   "source": [
    "## Filtering the values where loan_status is 1\n",
    "temp = loan[loan['loan_status'] == 1]\n",
    "temp_data = temp.groupby(\"exp_range\").agg({\"loan_amnt\":\"mean\"}).reset_index()\n",
    "temp_1 = temp.pivot_table(values = 'loan_status',index = 'exp_range',aggfunc='sum').reset_index()\n",
    "percentage1 = (temp_1.loc[0,'loan_status']/loan[loan['exp_range'] == \"1-5\"].shape[0])*100\n",
    "percentage2 = (temp_1.loc[1,'loan_status']/loan[loan['exp_range'] == \"5-9\"].shape[0])*100\n",
    "percentage3 = (temp_1.loc[2,'loan_status']/loan.loc[loan['exp_range'] == \"9+\"].shape[0])*100\n",
    "temp_data['Def_Percent'] = [percentage1,percentage2,percentage3]\n",
    "temp_data"
   ]
  },
  {
   "cell_type": "code",
   "execution_count": 1183,
   "metadata": {},
   "outputs": [
    {
     "data": {
      "image/png": "[encoded data removed]",
      "text/plain": [
       "<Figure size 1440x595.44 with 2 Axes>"
      ]
     },
     "metadata": {},
     "output_type": "display_data"
    }
   ],
   "source": [
    "#subplot 1: \n",
    "plt.subplot(1, 2, 1)\n",
    "sns.barplot(x='exp_range', y='Def_Percent', data=temp_data)\n",
    "plt.gcf().set_size_inches(20, 8.27)\n",
    "# subplot 2:\n",
    "plt.subplot(1, 2, 2)\n",
    "sns.barplot(x='exp_range', y='loan_amnt', data=temp_data)\n",
    "plt.show()"
   ]
  },
  {
   "cell_type": "markdown",
   "metadata": {},
   "source": [
    "##### From above graphs its clear that as the number of years of experience in employment increases, people take high amount of loans and their \n",
    "\n",
    "##### chance of defualt increases simultaneously"
   ]
  },
  {
   "cell_type": "markdown",
   "metadata": {},
   "source": [
    "### Checking impact of `DTI` on `loan_status`"
   ]
  },
  {
   "cell_type": "code",
   "execution_count": 1187,
   "metadata": {},
   "outputs": [
    {
     "data": {
      "image/png": "[encoded data removed]",
      "text/plain": [
       "<Figure size 1440x576 with 1 Axes>"
      ]
     },
     "metadata": {},
     "output_type": "display_data"
    }
   ],
   "source": [
    "## Exploring the column\n",
    "sns.boxplot(loan[\"dti\"])\n",
    "plt.show()\n",
    "## Looks like there are no outliers in this column"
   ]
  },
  {
   "cell_type": "code",
   "execution_count": 1190,
   "metadata": {},
   "outputs": [],
   "source": [
    "## Creating bins for this column\n",
    "bins = [0,10, 20, 30]\n",
    "groups =[\"0-10\",\"10-20\",\"20-30\"]\n",
    "loan['DTI_Range'] = pd.cut(loan['dti'],bins,labels=groups)"
   ]
  },
  {
   "cell_type": "code",
   "execution_count": 1192,
   "metadata": {},
   "outputs": [],
   "source": [
    "dti = loan[['DTI_Range','loan_status']].groupby(by=\"DTI_Range\",sort=True).sum().reset_index()\n",
    "Range1Len = loan[loan['DTI_Range'] == \"0-10\"].shape[0]\n",
    "Range2Len = loan[loan['DTI_Range'] == \"10-20\"].shape[0]\n",
    "Range3Len = loan[loan['DTI_Range'] == \"20-30\"].shape[0]\n",
    "Percentage1 = (dti.loc[0,'loan_status']/Range1Len)*100\n",
    "Percentage2 = (dti.loc[1,'loan_status']/Range2Len)*100\n",
    "Percentage3 = (dti.loc[2,'loan_status']/Range3Len)*100\n",
    "Percentage = [Percentage1,Percentage2,Percentage3]\n",
    "dti['Default_Percentage'] = Percentage"
   ]
  },
  {
   "cell_type": "code",
   "execution_count": 1194,
   "metadata": {},
   "outputs": [
    {
     "data": {
      "image/png": "[encoded data removed]",
      "text/plain": [
       "<Figure size 1440x576 with 1 Axes>"
      ]
     },
     "metadata": {},
     "output_type": "display_data"
    }
   ],
   "source": [
    "sns.barplot(y ='Default_Percentage',x = 'DTI_Range', data = dti)\n",
    "plt.show()"
   ]
  },
  {
   "cell_type": "markdown",
   "metadata": {},
   "source": [
    "### Checking impact of `Revolutil` on `loan_status`"
   ]
  },
  {
   "cell_type": "code",
   "execution_count": 1198,
   "metadata": {},
   "outputs": [],
   "source": [
    "## Cleaning the column data\n",
    "loan[\"revol_util\"] = loan[\"revol_util\"].apply(lambda x: str(x).replace(\"%\", \"\"))\n",
    "loan[\"revol_util\"] = pd.to_numeric(loan[\"revol_util\"])"
   ]
  },
  {
   "cell_type": "code",
   "execution_count": 1200,
   "metadata": {},
   "outputs": [
    {
     "data": {
      "image/png": "[encoded data removed]",
      "text/plain": [
       "<Figure size 1440x576 with 1 Axes>"
      ]
     },
     "metadata": {},
     "output_type": "display_data"
    }
   ],
   "source": [
    "## Exploring the column\n",
    "sns.boxplot(loan[\"revol_util\"])\n",
    "plt.show()\n",
    "## Looks like there are no outliers in this column"
   ]
  },
  {
   "cell_type": "code",
   "execution_count": 1201,
   "metadata": {},
   "outputs": [],
   "source": [
    "## Creating bins for this column to analyze the impact\n",
    "bins=[0,20,40,60,80,100]\n",
    "groups = [\"0-20\",\"20-40\",\"40-60\",\"60-80\",\"80-100\"]\n",
    "loan['RevolUtilGrp'] = pd.cut(loan['revol_util'],bins,labels=groups)\n",
    "util = loan.groupby(by=\"RevolUtilGrp\",sort=True).sum().reset_index()"
   ]
  },
  {
   "cell_type": "code",
   "execution_count": 1204,
   "metadata": {},
   "outputs": [],
   "source": [
    "percentage1 = (util.loc[0,'loan_status']/loan.loc[loan['RevolUtilGrp'] == \"0-20\"].shape[0])*100\n",
    "percentage2 = (util.loc[1,'loan_status']/loan.loc[loan['RevolUtilGrp'] == \"20-40\"].shape[0])*100\n",
    "percentage3 = (util.loc[2,'loan_status']/loan.loc[loan['RevolUtilGrp'] == \"40-60\"].shape[0])*100\n",
    "percentage4 = (util.loc[3,'loan_status']/loan.loc[loan['RevolUtilGrp'] == \"60-80\"].shape[0])*100\n",
    "percentage5 = (util.loc[4,'loan_status']/loan.loc[loan['RevolUtilGrp'] == \"80-100\"].shape[0])*100\n",
    "util['Default_percentage'] = [percentage1,percentage2,percentage3,percentage4,percentage5]"
   ]
  },
  {
   "cell_type": "code",
   "execution_count": 1205,
   "metadata": {},
   "outputs": [
    {
     "data": {
      "image/png": "[encoded data removed]",
      "text/plain": [
       "<Figure size 1440x595.44 with 1 Axes>"
      ]
     },
     "metadata": {},
     "output_type": "display_data"
    }
   ],
   "source": [
    "plot = sns.barplot(x='RevolUtilGrp', y='Default_percentage', data=util)\n",
    "plt.gcf().set_size_inches(20, 8.27)\n",
    "plot.set(xlabel='Revol Util Range(in percentage)', ylabel='Default_percentage')\n",
    "plt.show()"
   ]
  },
  {
   "cell_type": "markdown",
   "metadata": {},
   "source": [
    "##### Its quite clear that the percentage of `revol_util` increases, number of defualters also increase. And its obvious because it is said that\n",
    "\n",
    "##### value of revol_util above 30% is not considered good"
   ]
  },
  {
   "cell_type": "markdown",
   "metadata": {},
   "source": [
    "### Checking impact of `addr_state` on `loan_status`"
   ]
  },
  {
   "cell_type": "code",
   "execution_count": 853,
   "metadata": {},
   "outputs": [],
   "source": [
    "## Calculating total number of loans in each state\n",
    "tot_num_app = loan.groupby(\"addr_state\").agg({\"loan_status\":\"count\"}).reset_index()\n",
    "tot_num_app.rename(columns = {\"loan_status\": \"frequency_total\"}, inplace = True)"
   ]
  },
  {
   "cell_type": "code",
   "execution_count": 1215,
   "metadata": {},
   "outputs": [
    {
     "data": {
      "text/html": [
       "<div>\n",
       "<style scoped>\n",
       "    .dataframe tbody tr th:only-of-type {\n",
       "        vertical-align: middle;\n",
       "    }\n",
       "\n",
       "    .dataframe tbody tr th {\n",
       "        vertical-align: top;\n",
       "    }\n",
       "\n",
       "    .dataframe thead th {\n",
       "        text-align: right;\n",
       "    }\n",
       "</style>\n",
       "<table border=\"1\" class=\"dataframe\">\n",
       "  <thead>\n",
       "    <tr style=\"text-align: right;\">\n",
       "      <th></th>\n",
       "      <th>addr_state</th>\n",
       "      <th>frequency_total</th>\n",
       "    </tr>\n",
       "  </thead>\n",
       "  <tbody>\n",
       "    <tr>\n",
       "      <th>4</th>\n",
       "      <td>CA</td>\n",
       "      <td>6396</td>\n",
       "    </tr>\n",
       "    <tr>\n",
       "      <th>31</th>\n",
       "      <td>NY</td>\n",
       "      <td>3386</td>\n",
       "    </tr>\n",
       "    <tr>\n",
       "      <th>9</th>\n",
       "      <td>FL</td>\n",
       "      <td>2535</td>\n",
       "    </tr>\n",
       "    <tr>\n",
       "      <th>40</th>\n",
       "      <td>TX</td>\n",
       "      <td>2453</td>\n",
       "    </tr>\n",
       "    <tr>\n",
       "      <th>28</th>\n",
       "      <td>NJ</td>\n",
       "      <td>1667</td>\n",
       "    </tr>\n",
       "  </tbody>\n",
       "</table>\n",
       "</div>"
      ],
      "text/plain": [
       "   addr_state  frequency_total\n",
       "4          CA             6396\n",
       "31         NY             3386\n",
       "9          FL             2535\n",
       "40         TX             2453\n",
       "28         NJ             1667"
      ]
     },
     "execution_count": 1215,
     "metadata": {},
     "output_type": "execute_result"
    }
   ],
   "source": [
    "tot_num_app.sort_values(by=\"frequency_total\", ascending= False).head()\n",
    "## This shows top 5 states by total number of loans"
   ]
  },
  {
   "cell_type": "code",
   "execution_count": 854,
   "metadata": {},
   "outputs": [],
   "source": [
    "loan_addr = loan.groupby(\"addr_state\").agg({\"loan_status\":\"sum\"}).reset_index()\n",
    "loan_addr = loan_addr.rename(columns = {\"loan_status\":\"frequency\"})"
   ]
  },
  {
   "cell_type": "code",
   "execution_count": 1216,
   "metadata": {},
   "outputs": [
    {
     "data": {
      "text/html": [
       "<div>\n",
       "<style scoped>\n",
       "    .dataframe tbody tr th:only-of-type {\n",
       "        vertical-align: middle;\n",
       "    }\n",
       "\n",
       "    .dataframe tbody tr th {\n",
       "        vertical-align: top;\n",
       "    }\n",
       "\n",
       "    .dataframe thead th {\n",
       "        text-align: right;\n",
       "    }\n",
       "</style>\n",
       "<table border=\"1\" class=\"dataframe\">\n",
       "  <thead>\n",
       "    <tr style=\"text-align: right;\">\n",
       "      <th></th>\n",
       "      <th>addr_state</th>\n",
       "      <th>frequency</th>\n",
       "    </tr>\n",
       "  </thead>\n",
       "  <tbody>\n",
       "    <tr>\n",
       "      <th>4</th>\n",
       "      <td>CA</td>\n",
       "      <td>976</td>\n",
       "    </tr>\n",
       "    <tr>\n",
       "      <th>31</th>\n",
       "      <td>NY</td>\n",
       "      <td>438</td>\n",
       "    </tr>\n",
       "    <tr>\n",
       "      <th>9</th>\n",
       "      <td>FL</td>\n",
       "      <td>437</td>\n",
       "    </tr>\n",
       "    <tr>\n",
       "      <th>40</th>\n",
       "      <td>TX</td>\n",
       "      <td>273</td>\n",
       "    </tr>\n",
       "    <tr>\n",
       "      <th>28</th>\n",
       "      <td>NJ</td>\n",
       "      <td>256</td>\n",
       "    </tr>\n",
       "  </tbody>\n",
       "</table>\n",
       "</div>"
      ],
      "text/plain": [
       "   addr_state  frequency\n",
       "4          CA        976\n",
       "31         NY        438\n",
       "9          FL        437\n",
       "40         TX        273\n",
       "28         NJ        256"
      ]
     },
     "execution_count": 1216,
     "metadata": {},
     "output_type": "execute_result"
    }
   ],
   "source": [
    "loan_addr.sort_values(by=\"frequency\", ascending= False).head()\n",
    "## This shows top 5 states by number of defualters"
   ]
  },
  {
   "cell_type": "markdown",
   "metadata": {},
   "source": [
    "#### Interestingly, Top 5 states with highest number of loans are same as states with highest number of defaulters"
   ]
  },
  {
   "cell_type": "code",
   "execution_count": 1217,
   "metadata": {},
   "outputs": [],
   "source": [
    "## Merging bith the data frames\n",
    "final_addr = tot_num_app.merge(loan_addr, how= \"inner\", left_on= \"addr_state\", right_on=\"addr_state\")"
   ]
  },
  {
   "cell_type": "code",
   "execution_count": 1218,
   "metadata": {},
   "outputs": [],
   "source": [
    "## calculating percentage of defaulters in each state\n",
    "final_addr[\"percent_default_each_state\"] = (final_addr[\"frequency\"]/final_addr[\"frequency_total\"]) * 100"
   ]
  },
  {
   "cell_type": "code",
   "execution_count": 1219,
   "metadata": {},
   "outputs": [],
   "source": [
    "final_addr = final_addr.sort_values(by=\"percent_default_each_state\",ascending= False).iloc[0:20,:]"
   ]
  },
  {
   "cell_type": "code",
   "execution_count": 1220,
   "metadata": {},
   "outputs": [
    {
     "data": {
      "image/png": "[encoded data removed]",
      "text/plain": [
       "<Figure size 1440x720 with 1 Axes>"
      ]
     },
     "metadata": {},
     "output_type": "display_data"
    }
   ],
   "source": [
    "## Analyzing by total number of defualters\n",
    "temp = final_addr.sort_values(by=\"frequency\",ascending= False).iloc[0:5,:]\n",
    "plt.figure(figsize= (20,10))\n",
    "sns.barplot(x = \"addr_state\", y= \"frequency\", data= temp)\n",
    "plt.ylabel(\"Number of Defaulters\")\n",
    "plt.show()\n",
    "## Below graph shows top 10 states having most number of defaulters"
   ]
  },
  {
   "cell_type": "code",
   "execution_count": 1221,
   "metadata": {},
   "outputs": [
    {
     "data": {
      "image/png": "[encoded data removed]",
      "text/plain": [
       "<Figure size 1440x720 with 1 Axes>"
      ]
     },
     "metadata": {},
     "output_type": "display_data"
    }
   ],
   "source": [
    "## Analyzing by percentage of defaulters out of total application in each state\n",
    "temp = final_addr.sort_values(by=\"percent_default_each_state\",ascending= False).iloc[0:5,:]\n",
    "plt.figure(figsize= (20,10))\n",
    "sns.barplot(x = \"addr_state\", y= \"percent_default_each_state\", data= temp)\n",
    "plt.show()\n",
    "## Below graph shows top 10 states having most number of defaulters"
   ]
  },
  {
   "cell_type": "markdown",
   "metadata": {},
   "source": [
    "##### These are major points which can be noted from above:\n",
    "\n",
    "1.) First graph shows the top 5 states by number of defaulters in each state while the second graph shows proportion of defaulters out of total loans taken in each state. The states in first graph are also the one which has most number of loans\n",
    "\n",
    "2.) The top 10 states by proportion of defaulters are different than the top 5 states with most number of defualters\n",
    "\n",
    "3.) `Florida` is common in both the above graphs. So, lenders should be careful for the people coming from both states"
   ]
  },
  {
   "cell_type": "markdown",
   "metadata": {},
   "source": [
    "### Checking the impact of `Number of derogatory records` on ` loan_status`"
   ]
  },
  {
   "cell_type": "code",
   "execution_count": 1242,
   "metadata": {},
   "outputs": [
    {
     "data": {
      "image/png": "[encoded data removed]",
      "text/plain": [
       "<Figure size 1440x576 with 1 Axes>"
      ]
     },
     "metadata": {},
     "output_type": "display_data"
    }
   ],
   "source": [
    "## Exploring the column\n",
    "sns.countplot(loan[\"pub_rec\"])\n",
    "plt.show()\n",
    "## Tha data is lot skewed. Lets see if the proportion of defaulters tell anything"
   ]
  },
  {
   "cell_type": "code",
   "execution_count": 1243,
   "metadata": {},
   "outputs": [],
   "source": [
    "## changing the column values\n",
    "## Except '0' merging all other values and making it as `1`\n",
    "loan[\"pub_rec\"] = loan[\"pub_rec\"].apply(lambda x: 0 if x == 0 else 1)"
   ]
  },
  {
   "cell_type": "code",
   "execution_count": 1229,
   "metadata": {},
   "outputs": [],
   "source": [
    "temp = loan.loc[:, [\"loan_status\", \"pub_rec\"]]\n",
    "temp = temp.groupby(\"pub_rec\").agg({\"loan_status\":\"sum\"}).reset_index()\n",
    "temp[\"def_per\"] = (temp[\"loan_status\"]/loan.shape[0])*100"
   ]
  },
  {
   "cell_type": "code",
   "execution_count": 1246,
   "metadata": {},
   "outputs": [
    {
     "data": {
      "image/png": "[encoded data removed]",
      "text/plain": [
       "<Figure size 1440x576 with 1 Axes>"
      ]
     },
     "metadata": {},
     "output_type": "display_data"
    }
   ],
   "source": [
    "## Plotting the percentage of defaulters\n",
    "sns.barplot(x = \"pub_rec\", y = \"def_per\", data = temp)\n",
    "plt.show()"
   ]
  },
  {
   "cell_type": "markdown",
   "metadata": {},
   "source": [
    "##### We can't draw any conclsuion from above graph since the number of loans under `pub_rec = 1` are  very less. Hence its an insignificant variable"
   ]
  },
  {
   "cell_type": "markdown",
   "metadata": {},
   "source": [
    "### Checking the impact of  `Duration of loan ( in which loan is paid or defaulted)` on `loan_status`"
   ]
  },
  {
   "cell_type": "code",
   "execution_count": 1253,
   "metadata": {},
   "outputs": [],
   "source": [
    "## Calculation of number of months the emis are paid\n",
    "loan['last_pymnt_d'] = pd.to_datetime(loan['last_pymnt_d'],format='%b-%y')\n",
    "loan['issue_d'] = pd.to_datetime(loan['issue_d'],format='%b-%y')\n",
    "loan['dur_months'] = ((loan['last_pymnt_d']-loan['issue_d'])/np.timedelta64(1, 'M')).round()\n",
    "loan['dur_months'] = loan['dur_months'].astype(int)"
   ]
  },
  {
   "cell_type": "code",
   "execution_count": 1249,
   "metadata": {},
   "outputs": [
    {
     "data": {
      "image/png": "[encoded data removed]",
      "text/plain": [
       "<Figure size 1440x576 with 1 Axes>"
      ]
     },
     "metadata": {},
     "output_type": "display_data"
    }
   ],
   "source": [
    "## Exploring this column\n",
    "sns.countplot(loan['dur_months'])\n",
    "plt.show()"
   ]
  },
  {
   "cell_type": "markdown",
   "metadata": {},
   "source": [
    "##### This makes sense since most of loans were taken for `36 months`.\n",
    "##### Creating band helps in analysing this kind of data"
   ]
  },
  {
   "cell_type": "code",
   "execution_count": 1255,
   "metadata": {},
   "outputs": [
    {
     "data": {
      "text/html": [
       "<div>\n",
       "<style scoped>\n",
       "    .dataframe tbody tr th:only-of-type {\n",
       "        vertical-align: middle;\n",
       "    }\n",
       "\n",
       "    .dataframe tbody tr th {\n",
       "        vertical-align: top;\n",
       "    }\n",
       "\n",
       "    .dataframe thead th {\n",
       "        text-align: right;\n",
       "    }\n",
       "</style>\n",
       "<table border=\"1\" class=\"dataframe\">\n",
       "  <thead>\n",
       "    <tr style=\"text-align: right;\">\n",
       "      <th></th>\n",
       "      <th>dur_months</th>\n",
       "      <th>loan_status</th>\n",
       "    </tr>\n",
       "  </thead>\n",
       "  <tbody>\n",
       "    <tr>\n",
       "      <th>0</th>\n",
       "      <td>0-12</td>\n",
       "      <td>1688</td>\n",
       "    </tr>\n",
       "    <tr>\n",
       "      <th>1</th>\n",
       "      <td>12-24</td>\n",
       "      <td>1709</td>\n",
       "    </tr>\n",
       "    <tr>\n",
       "      <th>2</th>\n",
       "      <td>24-36</td>\n",
       "      <td>1073</td>\n",
       "    </tr>\n",
       "    <tr>\n",
       "      <th>3</th>\n",
       "      <td>36-48</td>\n",
       "      <td>353</td>\n",
       "    </tr>\n",
       "    <tr>\n",
       "      <th>4</th>\n",
       "      <td>48-60</td>\n",
       "      <td>117</td>\n",
       "    </tr>\n",
       "  </tbody>\n",
       "</table>\n",
       "</div>"
      ],
      "text/plain": [
       "  dur_months  loan_status\n",
       "0       0-12         1688\n",
       "1      12-24         1709\n",
       "2      24-36         1073\n",
       "3      36-48          353\n",
       "4      48-60          117"
      ]
     },
     "execution_count": 1255,
     "metadata": {},
     "output_type": "execute_result"
    }
   ],
   "source": [
    "bins=[0,12,24,36,48,60]\n",
    "groups = [\"0-12\",\"12-24\",\"24-36\",\"36-48\",\"48-60\"]\n",
    "loan['dur_months'] = pd.cut(loan['dur_months'],bins,labels=groups)\n",
    "dur = loan.pivot_table(values = 'loan_status',index='dur_months',aggfunc='sum')\n",
    "dur = dur.reset_index()\n",
    "dur"
   ]
  },
  {
   "cell_type": "code",
   "execution_count": 1262,
   "metadata": {},
   "outputs": [],
   "source": [
    "## Calculating percentage\n",
    "per_1 = dur.loc[0, \"loan_status\"] / loan[loan[\"dur_months\"] == \"0-12\"].shape[0]\n",
    "per_2 = dur.loc[1, \"loan_status\"] / loan[loan[\"dur_months\"] == \"12-24\"].shape[0]\n",
    "per_3 = dur.loc[2, \"loan_status\"] / loan[loan[\"dur_months\"] == \"24-36\"].shape[0]\n",
    "per_4 = dur.loc[3, \"loan_status\"] / loan[loan[\"dur_months\"] == \"36-48\"].shape[0]\n",
    "per_5 = dur.loc[4, \"loan_status\"] / loan[loan[\"dur_months\"] == \"48-60\"].shape[0]\n",
    "per = [per_1, per_2, per_3, per_4, per_5]\n",
    "dur[\"percent_default\"] = per\n",
    "dur[\"percent_default\"] = dur[\"percent_default\"] * 100"
   ]
  },
  {
   "cell_type": "code",
   "execution_count": 1264,
   "metadata": {},
   "outputs": [
    {
     "data": {
      "image/png": "[encoded data removed]",
      "text/plain": [
       "<Figure size 1440x595.44 with 1 Axes>"
      ]
     },
     "metadata": {},
     "output_type": "display_data"
    }
   ],
   "source": [
    "## Plotting the percentages\n",
    "plot = sns.barplot(x='dur_months', y='percent_default', data=dur)\n",
    "plt.gcf().set_size_inches(20, 8.27)\n",
    "plot.set(xlabel='Duration Range(in months)', ylabel='Defaulter Percentage')\n",
    "plt.show()"
   ]
  },
  {
   "cell_type": "markdown",
   "metadata": {},
   "source": [
    "##### From above analysis, its clear that people generally default during the period of `0-24 months`\n",
    "\n",
    "#### If they continue paying beyond this duration chances of going to default `decreases`\n",
    "\n",
    "##### We can't tell anything from last bar since the data for that duration is very less"
   ]
  },
  {
   "cell_type": "markdown",
   "metadata": {},
   "source": [
    "### Checking the impact of `Purpose of Loan` on getting default"
   ]
  },
  {
   "cell_type": "code",
   "execution_count": 1276,
   "metadata": {},
   "outputs": [
    {
     "data": {
      "text/plain": [
       "debt_consolidation    47.812809\n",
       "others                23.950233\n",
       "credit_card           13.080730\n",
       "home_improvement       7.391489\n",
       "car                    3.944578\n",
       "small_business         3.820161\n",
       "Name: purpose_new, dtype: float64"
      ]
     },
     "execution_count": 1276,
     "metadata": {},
     "output_type": "execute_result"
    }
   ],
   "source": [
    "## checking the column values\n",
    "(loan[\"purpose_new\"].value_counts()/loan.shape[0])*100"
   ]
  },
  {
   "cell_type": "code",
   "execution_count": 1285,
   "metadata": {},
   "outputs": [],
   "source": [
    "## Looking at above values, we should perform some consolidation here\n",
    "## Let's put `debt_consolidation`, `credit_card`, `small_business`, `car` and rest everything as `others`\n",
    "loan[\"purpose_new\"] = loan[\"purpose\"].apply(lambda x: \"others\" if x not in [\"debt_consolidation\", \"credit_card\", \"home_improvement\", \"car\", \"small_business\"] else x)"
   ]
  },
  {
   "cell_type": "code",
   "execution_count": 1291,
   "metadata": {},
   "outputs": [],
   "source": [
    "temp = loan.groupby(\"purpose_new\").agg({\"loan_status\":\"sum\"}).reset_index()\n",
    "temp[\"total_loans\"] = loan.groupby(\"purpose_new\").agg({\"loan_status\":\"count\"}).reset_index().loc[:, \"loan_status\"]\n",
    "temp[\"default_percent\"] = (temp[\"loan_status\"]/temp[\"total_loans\"]) *100"
   ]
  },
  {
   "cell_type": "code",
   "execution_count": 1292,
   "metadata": {},
   "outputs": [
    {
     "data": {
      "text/html": [
       "<div>\n",
       "<style scoped>\n",
       "    .dataframe tbody tr th:only-of-type {\n",
       "        vertical-align: middle;\n",
       "    }\n",
       "\n",
       "    .dataframe tbody tr th {\n",
       "        vertical-align: top;\n",
       "    }\n",
       "\n",
       "    .dataframe thead th {\n",
       "        text-align: right;\n",
       "    }\n",
       "</style>\n",
       "<table border=\"1\" class=\"dataframe\">\n",
       "  <thead>\n",
       "    <tr style=\"text-align: right;\">\n",
       "      <th></th>\n",
       "      <th>purpose_new</th>\n",
       "      <th>loan_status</th>\n",
       "      <th>total_loans</th>\n",
       "      <th>default_percent</th>\n",
       "    </tr>\n",
       "  </thead>\n",
       "  <tbody>\n",
       "    <tr>\n",
       "      <th>0</th>\n",
       "      <td>car</td>\n",
       "      <td>149</td>\n",
       "      <td>1395</td>\n",
       "      <td>10.681004</td>\n",
       "    </tr>\n",
       "    <tr>\n",
       "      <th>1</th>\n",
       "      <td>credit_card</td>\n",
       "      <td>479</td>\n",
       "      <td>4626</td>\n",
       "      <td>10.354518</td>\n",
       "    </tr>\n",
       "    <tr>\n",
       "      <th>2</th>\n",
       "      <td>debt_consolidation</td>\n",
       "      <td>2508</td>\n",
       "      <td>16909</td>\n",
       "      <td>14.832338</td>\n",
       "    </tr>\n",
       "    <tr>\n",
       "      <th>3</th>\n",
       "      <td>home_improvement</td>\n",
       "      <td>296</td>\n",
       "      <td>2614</td>\n",
       "      <td>11.323642</td>\n",
       "    </tr>\n",
       "    <tr>\n",
       "      <th>4</th>\n",
       "      <td>others</td>\n",
       "      <td>1154</td>\n",
       "      <td>8470</td>\n",
       "      <td>13.624557</td>\n",
       "    </tr>\n",
       "    <tr>\n",
       "      <th>5</th>\n",
       "      <td>small_business</td>\n",
       "      <td>356</td>\n",
       "      <td>1351</td>\n",
       "      <td>26.350851</td>\n",
       "    </tr>\n",
       "  </tbody>\n",
       "</table>\n",
       "</div>"
      ],
      "text/plain": [
       "          purpose_new  loan_status  total_loans  default_percent\n",
       "0                 car          149         1395        10.681004\n",
       "1         credit_card          479         4626        10.354518\n",
       "2  debt_consolidation         2508        16909        14.832338\n",
       "3    home_improvement          296         2614        11.323642\n",
       "4              others         1154         8470        13.624557\n",
       "5      small_business          356         1351        26.350851"
      ]
     },
     "execution_count": 1292,
     "metadata": {},
     "output_type": "execute_result"
    }
   ],
   "source": [
    "temp"
   ]
  },
  {
   "cell_type": "code",
   "execution_count": 1295,
   "metadata": {},
   "outputs": [
    {
     "data": {
      "image/png": "[encoded data removed]",
      "text/plain": [
       "<Figure size 1800x576 with 1 Axes>"
      ]
     },
     "metadata": {},
     "output_type": "display_data"
    }
   ],
   "source": [
    "## Plotting the above data set\n",
    "sns.set(rc={'figure.figsize':(25,8)})\n",
    "plot = sns.barplot(x=\"purpose_new\", y=\"default_percent\",data=temp);\n",
    "plot.set(xlabel='purpose', ylabel='Defaut Percentage')\n",
    "# plt.title(\"bar chart\")\n",
    "plt.show()"
   ]
  },
  {
   "cell_type": "markdown",
   "metadata": {},
   "source": [
    "##### From above table and  graph, most of loan has purpose of  `Debt_consolidation` and thus it has highest number of defaulters. Around 50% of total loans are under `Debt_consolidation`\n",
    "\n",
    "##### Contrary to that,` small business` segment has highest default rate even with lowest number of applications. So lender should be careful if the purpose of loan is `small business`"
   ]
  },
  {
   "cell_type": "code",
   "execution_count": null,
   "metadata": {},
   "outputs": [],
   "source": []
  }
 ],
 "metadata": {
  "kernelspec": {
   "display_name": "Python 3",
   "language": "python",
   "name": "python3"
  },
  "language_info": {
   "codemirror_mode": {
    "name": "ipython",
    "version": 3
   },
   "file_extension": ".py",
   "mimetype": "text/x-python",
   "name": "python",
   "nbconvert_exporter": "python",
   "pygments_lexer": "ipython3",
   "version": "3.7.3"
  }
 },
 "nbformat": 4,
 "nbformat_minor": 2
}
